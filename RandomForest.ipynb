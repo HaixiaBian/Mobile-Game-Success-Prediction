{
 "cells": [
  {
   "cell_type": "code",
   "execution_count": 4,
   "metadata": {},
   "outputs": [],
   "source": [
    "import pandas as pd  \n",
    "import numpy as np  \n",
    "import matplotlib.pyplot as plt  \n",
    "from sklearn.model_selection import train_test_split \n",
    "from sklearn.preprocessing import StandardScaler\n",
    "from sklearn.linear_model import LinearRegression,Lasso,Ridge,ElasticNet\n",
    "from sklearn.model_selection import cross_val_score, cross_val_predict\n",
    "from sklearn.ensemble import RandomForestClassifier\n",
    "from sklearn import preprocessing\n",
    "from sklearn import metrics \n",
    "from sklearn import tree\n",
    "from sklearn.metrics import classification_report\n",
    "from sklearn.metrics import mean_squared_error\n",
    "from imblearn.over_sampling import SMOTE\n",
    "from sklearn.metrics import confusion_matrix\n",
    "import seaborn as sns\n",
    "plt.rc(\"font\", size=14)\n",
    "sns.set(style=\"white\")\n",
    "sns.set(style=\"whitegrid\", color_codes=True)"
   ]
  },
  {
   "cell_type": "code",
   "execution_count": 5,
   "metadata": {},
   "outputs": [
    {
     "data": {
      "text/html": [
       "<div>\n",
       "<style scoped>\n",
       "    .dataframe tbody tr th:only-of-type {\n",
       "        vertical-align: middle;\n",
       "    }\n",
       "\n",
       "    .dataframe tbody tr th {\n",
       "        vertical-align: top;\n",
       "    }\n",
       "\n",
       "    .dataframe thead th {\n",
       "        text-align: right;\n",
       "    }\n",
       "</style>\n",
       "<table border=\"1\" class=\"dataframe\">\n",
       "  <thead>\n",
       "    <tr style=\"text-align: right;\">\n",
       "      <th></th>\n",
       "      <th>user_rating_count</th>\n",
       "      <th>price</th>\n",
       "      <th>age_rating</th>\n",
       "      <th>language_en</th>\n",
       "      <th>language_sum</th>\n",
       "      <th>size</th>\n",
       "      <th>release_date</th>\n",
       "      <th>last_update</th>\n",
       "      <th>supported_devices</th>\n",
       "      <th>in_app_purchase</th>\n",
       "    </tr>\n",
       "  </thead>\n",
       "  <tbody>\n",
       "    <tr>\n",
       "      <th>0</th>\n",
       "      <td>-0.157709</td>\n",
       "      <td>0.99</td>\n",
       "      <td>-0.851485</td>\n",
       "      <td>1</td>\n",
       "      <td>-0.561283</td>\n",
       "      <td>-0.479634</td>\n",
       "      <td>0.339021</td>\n",
       "      <td>-0.041101</td>\n",
       "      <td>0.099720</td>\n",
       "      <td>0</td>\n",
       "    </tr>\n",
       "    <tr>\n",
       "      <th>1</th>\n",
       "      <td>-0.151718</td>\n",
       "      <td>0.00</td>\n",
       "      <td>0.437470</td>\n",
       "      <td>1</td>\n",
       "      <td>-0.561283</td>\n",
       "      <td>0.228798</td>\n",
       "      <td>-0.249278</td>\n",
       "      <td>-0.327711</td>\n",
       "      <td>0.099720</td>\n",
       "      <td>0</td>\n",
       "    </tr>\n",
       "    <tr>\n",
       "      <th>2</th>\n",
       "      <td>-0.166011</td>\n",
       "      <td>0.00</td>\n",
       "      <td>-0.851485</td>\n",
       "      <td>1</td>\n",
       "      <td>-0.561283</td>\n",
       "      <td>-0.577119</td>\n",
       "      <td>0.122751</td>\n",
       "      <td>0.005774</td>\n",
       "      <td>0.099720</td>\n",
       "      <td>1</td>\n",
       "    </tr>\n",
       "    <tr>\n",
       "      <th>3</th>\n",
       "      <td>-0.156473</td>\n",
       "      <td>0.00</td>\n",
       "      <td>-0.851485</td>\n",
       "      <td>1</td>\n",
       "      <td>-0.561283</td>\n",
       "      <td>-0.572604</td>\n",
       "      <td>-0.410640</td>\n",
       "      <td>0.779888</td>\n",
       "      <td>0.859935</td>\n",
       "      <td>1</td>\n",
       "    </tr>\n",
       "    <tr>\n",
       "      <th>4</th>\n",
       "      <td>-0.166960</td>\n",
       "      <td>7.99</td>\n",
       "      <td>1.210842</td>\n",
       "      <td>1</td>\n",
       "      <td>-0.561283</td>\n",
       "      <td>5.092260</td>\n",
       "      <td>-0.688541</td>\n",
       "      <td>-0.083959</td>\n",
       "      <td>0.099720</td>\n",
       "      <td>0</td>\n",
       "    </tr>\n",
       "  </tbody>\n",
       "</table>\n",
       "</div>"
      ],
      "text/plain": [
       "   user_rating_count  price  age_rating  language_en  language_sum      size  \\\n",
       "0          -0.157709   0.99   -0.851485            1     -0.561283 -0.479634   \n",
       "1          -0.151718   0.00    0.437470            1     -0.561283  0.228798   \n",
       "2          -0.166011   0.00   -0.851485            1     -0.561283 -0.577119   \n",
       "3          -0.156473   0.00   -0.851485            1     -0.561283 -0.572604   \n",
       "4          -0.166960   7.99    1.210842            1     -0.561283  5.092260   \n",
       "\n",
       "   release_date  last_update  supported_devices  in_app_purchase  \n",
       "0      0.339021    -0.041101           0.099720                0  \n",
       "1     -0.249278    -0.327711           0.099720                0  \n",
       "2      0.122751     0.005774           0.099720                1  \n",
       "3     -0.410640     0.779888           0.859935                1  \n",
       "4     -0.688541    -0.083959           0.099720                0  "
      ]
     },
     "execution_count": 5,
     "metadata": {},
     "output_type": "execute_result"
    }
   ],
   "source": [
    "data = pd.read_csv('project_data_user_count_30.csv',header=0)\n",
    "data=data.dropna()\n",
    "\n",
    "#data columns\n",
    "data=data.iloc[:,1:12].join(data.iloc[:,-1]) #without genre\n",
    "data=data.drop(\"genres\", axis=1)\n",
    "data.loc[data['average_user_rating']>=3.5, 'average_user_rating']=1\n",
    "data.loc[data['average_user_rating']!=1, 'average_user_rating']=0\n",
    "\n",
    "data_X=data.drop('average_user_rating',axis=1)\n",
    "data_y=data.loc[:,data.columns=='average_user_rating']\n",
    "\n",
    "\n",
    "data_X[['user_rating_count','age_rating','language_sum','size','release_date','last_update','supported_devices']]=StandardScaler().fit_transform(data_X[['user_rating_count','age_rating','language_sum','size','release_date','last_update','supported_devices']])\n",
    "\n",
    "os=SMOTE(random_state=0)\n",
    "X_train, X_test, y_train, y_test=train_test_split(data_X, data_y, test_size=0.3, random_state=0)\n",
    "columns=X_train.columns\n",
    "\n",
    "X_train,y_train=os.fit_sample(X_train, y_train.to_numpy().ravel())\n",
    "X_train = pd.DataFrame(data=X_train,columns=columns )\n",
    "y_train= pd.DataFrame(data=y_train,columns=['average_user_rating'])\n",
    "\n",
    "y_train.average_user_rating.value_counts()\n",
    "X_train.head()"
   ]
  },
  {
   "cell_type": "code",
   "execution_count": 6,
   "metadata": {},
   "outputs": [
    {
     "name": "stderr",
     "output_type": "stream",
     "text": [
      "/Users/zhaoqingteng/anaconda3/lib/python3.6/site-packages/ipykernel_launcher.py:3: DataConversionWarning: A column-vector y was passed when a 1d array was expected. Please change the shape of y to (n_samples,), for example using ravel().\n",
      "  This is separate from the ipykernel package so we can avoid doing imports until\n"
     ]
    },
    {
     "name": "stdout",
     "output_type": "stream",
     "text": [
      "              precision    recall  f1-score   support\n",
      "\n",
      "           0       0.23      0.26      0.24       109\n",
      "           1       0.95      0.94      0.95      1679\n",
      "\n",
      "    accuracy                           0.90      1788\n",
      "   macro avg       0.59      0.60      0.60      1788\n",
      "weighted avg       0.91      0.90      0.91      1788\n",
      "\n",
      "[[  28   81]\n",
      " [  93 1586]]\n"
     ]
    }
   ],
   "source": [
    "clf=RandomForestClassifier(n_estimators=100)\n",
    "\n",
    "clf = clf.fit(X_train,y_train)\n",
    "\n",
    "y_pred=clf.predict(X_test)\n",
    "\n",
    "print(classification_report(y_test, y_pred))\n",
    "confusion_matrix_RF_binary = confusion_matrix(y_test,y_pred)\n",
    "print(confusion_matrix_RF_binary)"
   ]
  },
  {
   "cell_type": "code",
   "execution_count": 7,
   "metadata": {},
   "outputs": [
    {
     "data": {
      "image/png": "[encoded data removed]",
      "text/plain": [
       "<matplotlib.figure.Figure at 0x114ebf208>"
      ]
     },
     "metadata": {},
     "output_type": "display_data"
    }
   ],
   "source": [
    "from sklearn.metrics import roc_auc_score\n",
    "from sklearn.metrics import roc_curve\n",
    "dt_roc_auc = roc_auc_score(y_test, clf.predict(X_test))\n",
    "fpr, tpr, thresholds = roc_curve(y_test, clf.predict_proba(X_test)[:,1])\n",
    "plt.figure()\n",
    "plt.plot(fpr, tpr, label='Random Forest with binary value (area = %0.2f)' % dt_roc_auc)\n",
    "plt.plot([0, 1], [0, 1],'r--')\n",
    "plt.xlim([0.0, 1.0])\n",
    "plt.ylim([0.0, 1.05])\n",
    "plt.xlabel('False Positive Rate')\n",
    "plt.ylabel('True Positive Rate')\n",
    "plt.title('Receiver operating characteristic')\n",
    "plt.legend(loc=\"lower right\")\n",
    "plt.savefig('RandomForest_ROC')\n",
    "plt.show()"
   ]
  },
  {
   "cell_type": "code",
   "execution_count": 8,
   "metadata": {},
   "outputs": [
    {
     "data": {
      "text/plain": [
       "5    2508\n",
       "4    2508\n",
       "3    2508\n",
       "2    2508\n",
       "Name: average_user_rating, dtype: int64"
      ]
     },
     "execution_count": 8,
     "metadata": {},
     "output_type": "execute_result"
    }
   ],
   "source": [
    "data = pd.read_csv('./project_data_user_count_30.csv',header=0)\n",
    "data=data.dropna()\n",
    "\n",
    "#data columns\n",
    "data=data.iloc[:,1:12].join(data.iloc[:,-1]) #without genre\n",
    "data=data.drop(\"genres\", axis=1)\n",
    "\n",
    "\n",
    "data_X=data.drop('average_user_rating',axis=1)\n",
    "data_y=data.loc[:,data.columns=='average_user_rating']\n",
    "\n",
    "\n",
    "data_X[['user_rating_count','age_rating','language_sum','size','release_date','last_update','supported_devices']]=StandardScaler().fit_transform(data_X[['user_rating_count','age_rating','language_sum','size','release_date','last_update','supported_devices']])\n",
    "\n",
    "os=SMOTE(random_state=0)\n",
    "X_train, X_test, y_train, y_test=train_test_split(data_X, data_y, test_size=0.3, random_state=0)\n",
    "columns=X_train.columns\n",
    "\n",
    "X_train,y_train=os.fit_sample(X_train, y_train.to_numpy().ravel())\n",
    "X_train = pd.DataFrame(data=X_train,columns=columns )\n",
    "y_train= pd.DataFrame(data=y_train,columns=['average_user_rating'])\n",
    "\n",
    "y_train.average_user_rating.value_counts()\n",
    "# X_train.head()"
   ]
  },
  {
   "cell_type": "code",
   "execution_count": 9,
   "metadata": {},
   "outputs": [
    {
     "name": "stderr",
     "output_type": "stream",
     "text": [
      "/Users/zhaoqingteng/anaconda3/lib/python3.6/site-packages/ipykernel_launcher.py:3: DataConversionWarning: A column-vector y was passed when a 1d array was expected. Please change the shape of y to (n_samples,), for example using ravel().\n",
      "  This is separate from the ipykernel package so we can avoid doing imports until\n"
     ]
    },
    {
     "name": "stdout",
     "output_type": "stream",
     "text": [
      "              precision    recall  f1-score   support\n",
      "\n",
      "           2       0.00      0.00      0.00        11\n",
      "           3       0.20      0.27      0.23        98\n",
      "           4       0.52      0.52      0.52       621\n",
      "           5       0.74      0.70      0.72      1058\n",
      "\n",
      "    accuracy                           0.61      1788\n",
      "   macro avg       0.36      0.37      0.37      1788\n",
      "weighted avg       0.63      0.61      0.62      1788\n",
      "\n",
      "[[  0   1   5   5]\n",
      " [  2  26  46  24]\n",
      " [ 13  50 326 232]\n",
      " [  9  53 253 743]]\n"
     ]
    }
   ],
   "source": [
    "clf=RandomForestClassifier(n_estimators=100)\n",
    "\n",
    "clf = clf.fit(X_train,y_train)\n",
    "\n",
    "y_pred=clf.predict(X_test)\n",
    "\n",
    "print(classification_report(y_test, y_pred))\n",
    "confusion_matrix_RF_multi = confusion_matrix(y_test,y_pred)\n",
    "print(confusion_matrix_RF_multi)"
   ]
  },
  {
   "cell_type": "code",
   "execution_count": null,
   "metadata": {},
   "outputs": [],
   "source": []
  }
 ],
 "metadata": {
  "kernelspec": {
   "display_name": "Python 3",
   "language": "python",
   "name": "python3"
  },
  "language_info": {
   "codemirror_mode": {
    "name": "ipython",
    "version": 3
   },
   "file_extension": ".py",
   "mimetype": "text/x-python",
   "name": "python",
   "nbconvert_exporter": "python",
   "pygments_lexer": "ipython3",
   "version": "3.6.4"
  }
 },
 "nbformat": 4,
 "nbformat_minor": 2
}
