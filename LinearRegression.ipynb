{
 "cells": [
  {
   "cell_type": "code",
   "execution_count": 216,
   "metadata": {},
   "outputs": [],
   "source": [
    "import pandas as pd  \n",
    "import numpy as np  \n",
    "import matplotlib.pyplot as plt  \n",
    "from sklearn.model_selection import train_test_split \n",
    "from sklearn.preprocessing import StandardScaler\n",
    "from sklearn.linear_model import LinearRegression,Lasso,Ridge,ElasticNet\n",
    "from sklearn.model_selection import cross_val_score, cross_val_predict\n",
    "from sklearn import preprocessing\n",
    "from sklearn import metrics \n",
    "from sklearn import tree\n",
    "from sklearn.metrics import classification_report\n",
    "from sklearn.metrics import mean_squared_error\n",
    "from imblearn.over_sampling import SMOTE\n",
    "import seaborn as sns\n",
    "plt.rc(\"font\", size=14)\n",
    "sns.set(style=\"white\")\n",
    "sns.set(style=\"whitegrid\", color_codes=True)"
   ]
  },
  {
   "cell_type": "code",
   "execution_count": 218,
   "metadata": {},
   "outputs": [
    {
     "data": {
      "text/plain": [
       "1    3920\n",
       "0    3920\n",
       "Name: average_user_rating, dtype: int64"
      ]
     },
     "execution_count": 218,
     "metadata": {},
     "output_type": "execute_result"
    }
   ],
   "source": [
    "data = pd.read_csv('./project_data_user_count_30.csv',header=0)\n",
    "data=data.dropna()\n",
    "\n",
    "#data columns\n",
    "data=data.iloc[:,1:12].join(data.iloc[:,-1]) #without genre\n",
    "data=data.drop(\"genres\", axis=1)\n",
    "data.loc[data['average_user_rating']>=3.5, 'average_user_rating']=1\n",
    "data.loc[data['average_user_rating']!=1, 'average_user_rating']=0\n",
    "\n",
    "data_X=data.drop('average_user_rating',axis=1)\n",
    "data_y=data.loc[:,data.columns=='average_user_rating']\n",
    "\n",
    "data_X[['user_rating_count','age_rating','language_sum','size','release_date','last_update','supported_devices']]=StandardScaler().fit_transform(data_X[['user_rating_count','age_rating','language_sum','size','release_date','last_update','supported_devices']])\n",
    "\n",
    "os=SMOTE(random_state=0)\n",
    "X_train, X_test, y_train, y_test=train_test_split(data_X, data_y, test_size=0.3, random_state=0)\n",
    "columns=X_train.columns\n",
    "\n",
    "X_train,y_train=os.fit_sample(X_train, y_train.to_numpy().ravel())\n",
    "X_train = pd.DataFrame(data=X_train,columns=columns )\n",
    "y_train= pd.DataFrame(data=y_train,columns=['average_user_rating'])\n",
    "\n",
    "y_train.average_user_rating.value_counts()\n",
    "\n",
    "\n",
    "\n"
   ]
  },
  {
   "cell_type": "code",
   "execution_count": 224,
   "metadata": {},
   "outputs": [
    {
     "name": "stdout",
     "output_type": "stream",
     "text": [
      "-2.4982581586894166\n",
      "0.2090459745604183\n",
      "Mean Absolute Error: 0.40730062993244853\n",
      "Mean Squared Error: 0.20025991192836304\n",
      "Root Mean Squared Error: 0.4475040915213659\n"
     ]
    }
   ],
   "source": [
    "LinearModel = LinearRegression()\n",
    "LinearModel.fit(X_train, y_train)#Linear model\n",
    "y_pred = LinearModel.predict(X_test)\n",
    "\n",
    "print(LinearModel.score(X_test,y_test))\n",
    "print(LinearModel.score(X_train,y_train))\n",
    "\n",
    "LR_mae = metrics.mean_absolute_error(y_test, y_pred)\n",
    "LR_mse = metrics.mean_squared_error(y_test, y_pred)\n",
    "LR_rmse = np.sqrt(metrics.mean_squared_error(y_test, y_pred))\n",
    "print('Mean Absolute Error:', LR_mae)  \n",
    "print('Mean Squared Error:', LR_mse)  \n",
    "print('Root Mean Squared Error:', LR_rmse)"
   ]
  },
  {
   "cell_type": "code",
   "execution_count": 225,
   "metadata": {},
   "outputs": [
    {
     "name": "stdout",
     "output_type": "stream",
     "text": [
      "-2.4999588924824145\n",
      "0.2086392347279209\n",
      "Mean Absolute Error: 0.4089062278687292\n",
      "Mean Squared Error: 0.2003572714667817\n",
      "Root Mean Squared Error: 0.4476128589158065\n"
     ]
    }
   ],
   "source": [
    "lasso_model = Lasso(alpha = 0.002)\n",
    "lasso_model.fit(X_train,y_train) #Lasso model\n",
    "y_pred_lasso = lasso_model.predict(X_test)\n",
    "\n",
    "print(lasso_model.score(X_test,y_test))\n",
    "print(lasso_model.score(X_train,y_train))\n",
    "\n",
    "Lasso_mae = metrics.mean_absolute_error(y_test, y_pred_lasso)\n",
    "Lasso_mse = metrics.mean_squared_error(y_test, y_pred_lasso)\n",
    "Lasso_rmse = np.sqrt(metrics.mean_squared_error(y_test, y_pred_lasso))\n",
    "\n",
    "print('Mean Absolute Error:', Lasso_mae)  \n",
    "print('Mean Squared Error:', Lasso_mse)  \n",
    "print('Root Mean Squared Error:', Lasso_rmse)"
   ]
  },
  {
   "cell_type": "code",
   "execution_count": 226,
   "metadata": {},
   "outputs": [
    {
     "name": "stdout",
     "output_type": "stream",
     "text": [
      "-2.49825818357451\n",
      "0.20904597456025997\n",
      "Mean Absolute Error: 0.40730066596728975\n",
      "Mean Squared Error: 0.2002599133529253\n",
      "Root Mean Squared Error: 0.44750409311304107\n"
     ]
    }
   ],
   "source": [
    "ridge_model = Ridge(alpha = 0.002)\n",
    "ridge_model.fit(X_train,y_train) #Ridge model\n",
    "y_pred_ridge = ridge_model.predict(X_test)\n",
    "\n",
    "print(ridge_model.score(X_test,y_test))\n",
    "print(ridge_model.score(X_train,y_train))\n",
    "\n",
    "Ridge_mae = metrics.mean_absolute_error(y_test, y_pred_ridge)\n",
    "Ridge_mse = metrics.mean_squared_error(y_test, y_pred_ridge)\n",
    "Ridge_rmse = np.sqrt(metrics.mean_squared_error(y_test, y_pred_ridge))\n",
    "\n",
    "print('Mean Absolute Error:', Ridge_mae)  \n",
    "print('Mean Squared Error:', Ridge_mse)  \n",
    "print('Root Mean Squared Error:', Ridge_rmse)"
   ]
  },
  {
   "cell_type": "code",
   "execution_count": 227,
   "metadata": {},
   "outputs": [
    {
     "name": "stdout",
     "output_type": "stream",
     "text": [
      "-2.5018918972530138\n",
      "0.20875924774278332\n",
      "Mean Absolute Error: 0.40836751849706454\n",
      "Mean Squared Error: 0.20046792749831438\n",
      "Root Mean Squared Error: 0.4477364487042733\n"
     ]
    }
   ],
   "source": [
    "ElasticNet_model = ElasticNet(alpha = 0.002,l1_ratio=0.5)\n",
    "ElasticNet_model.fit(X_train,y_train) \n",
    "y_pred_elastic = ElasticNet_model.predict(X_test)\n",
    "\n",
    "print(ElasticNet_model.score(X_test,y_test))\n",
    "print(ElasticNet_model.score(X_train,y_train))\n",
    "\n",
    "ElasticNet_mae = metrics.mean_absolute_error(y_test, y_pred_elastic)\n",
    "ElasticNet_mse = metrics.mean_squared_error(y_test, y_pred_elastic)\n",
    "ElasticNet_rmse = np.sqrt(metrics.mean_squared_error(y_test, y_pred_elastic))\n",
    "\n",
    "print('Mean Absolute Error:', ElasticNet_mae)  \n",
    "print('Mean Squared Error:', ElasticNet_mse)  \n",
    "print('Root Mean Squared Error:', ElasticNet_rmse)"
   ]
  },
  {
   "cell_type": "code",
   "execution_count": 267,
   "metadata": {},
   "outputs": [
    {
     "data": {
      "image/png": "[encoded data removed]",
      "text/plain": [
       "<matplotlib.figure.Figure at 0x11d42cd68>"
      ]
     },
     "metadata": {},
     "output_type": "display_data"
    }
   ],
   "source": [
    "models = ['Linear', 'Lasso', 'Ridge', 'ElasticNet']\n",
    "MAEvalues = [LR_mae, Lasso_mae, Ridge_mae, ElasticNet_mae]\n",
    "MSEvalues = [LR_mse, Lasso_mse, Ridge_mse, ElasticNet_mse]\n",
    "RMSEvalues = [LR_rmse, Lasso_rmse, Ridge_rmse, ElasticNet_rmse]\n",
    "\n",
    "# plt.bar(models,values,align='center') # A bar chart\n",
    "# plt.xlabel('models')\n",
    "# plt.ylabel('MSE')\n",
    "\n",
    "# plt.show()\n",
    "\n",
    "size = 4\n",
    "x = np.arange(size)\n",
    "a = np.random.random(size)\n",
    "b = np.random.random(size)\n",
    "c = np.random.random(size)\n",
    "\n",
    "total_width, n = 0.5, 3\n",
    "width = total_width / n\n",
    "x = x - (total_width - width) / 2\n",
    "\n",
    "plt.bar(x, MAEvalues,  width=width, label='Mean Absolute Error')\n",
    "plt.bar(x + width, MSEvalues, width=width, label='Mean Squared Error')\n",
    "plt.bar(x + 2 * width, RMSEvalues, width=width, label='Root Mean Squared Error')\n",
    "plt.xticks(x, models, size='small')\n",
    "plt.ylim(0, 0.6)\n",
    "plt.title('MAE,MSE,RMSE in each model \\n(no cross validation)',fontsize=15)\n",
    "plt.legend()\n",
    "plt.savefig('MAE,MSE,RMSE in each model(no cross validation).png')\n",
    "plt.show()\n"
   ]
  },
  {
   "cell_type": "code",
   "execution_count": 260,
   "metadata": {},
   "outputs": [
    {
     "name": "stdout",
     "output_type": "stream",
     "text": [
      "-0.1092445725324332\n",
      "-0.056496341164542066\n",
      "-0.2282737810562992\n",
      "-0.10853748530214147\n",
      "-0.05631055334472331\n",
      "-0.22781310889089249\n",
      "-0.10924456344849764\n",
      "-0.0564963393942016\n",
      "-0.22827377557730424\n",
      "-0.10878847806295915\n",
      "-0.05638052135806406\n",
      "-0.2279878423244806\n"
     ]
    }
   ],
   "source": [
    "LinearModelForCV = LinearRegression()\n",
    "LR_MAEscores = cross_val_score(LinearModelForCV, data_X, data_y, cv=10,scoring='neg_mean_absolute_error')\n",
    "LR_MSEscores = cross_val_score(LinearModelForCV, data_X, data_y, cv=10,scoring='neg_mean_squared_error')\n",
    "LR_RMSEscores = cross_val_score(LinearModelForCV, data_X, data_y, cv=10,scoring='neg_root_mean_squared_error')\n",
    "\n",
    "LassoModelForCV = Lasso(alpha = 0.002)\n",
    "Lasso_MAEscores = cross_val_score(LassoModelForCV, data_X, data_y, cv=10,scoring='neg_mean_absolute_error')\n",
    "Lasso_MSEscores = cross_val_score(LassoModelForCV, data_X, data_y, cv=10,scoring='neg_mean_squared_error')\n",
    "Lasso_RMSEscores = cross_val_score(LassoModelForCV, data_X, data_y, cv=10,scoring='neg_root_mean_squared_error')\n",
    "\n",
    "RidgeModelForCV = Ridge(alpha = 0.002)\n",
    "Ridge_MAEscores = cross_val_score(RidgeModelForCV, data_X, data_y, cv=10,scoring='neg_mean_absolute_error')\n",
    "Ridge_MSEscores = cross_val_score(RidgeModelForCV, data_X, data_y, cv=10,scoring='neg_mean_squared_error')\n",
    "Ridge_RMSEscores = cross_val_score(RidgeModelForCV, data_X, data_y, cv=10,scoring='neg_root_mean_squared_error')\n",
    "\n",
    "ElasticNetModelForCV = ElasticNet(alpha = 0.002,l1_ratio=0.5)\n",
    "ElasticNet_MAEscores = cross_val_score(ElasticNetModelForCV, data_X, data_y, cv=10,scoring='neg_mean_absolute_error')\n",
    "ElasticNet_MSEscores = cross_val_score(ElasticNetModelForCV, data_X, data_y, cv=10,scoring='neg_mean_squared_error')\n",
    "ElasticNet_RMSEscores = cross_val_score(ElasticNetModelForCV, data_X, data_y, cv=10,scoring='neg_root_mean_squared_error')\n",
    "\n",
    "print(LR_MAEscores.mean())\n",
    "print(LR_MSEscores.mean())\n",
    "print(LR_RMSEscores.mean())\n",
    "print(Lasso_MAEscores.mean())\n",
    "print(Lasso_MSEscores.mean())\n",
    "print(Lasso_RMSEscores.mean())\n",
    "print(Ridge_MAEscores.mean())\n",
    "print(Ridge_MSEscores.mean())\n",
    "print(Ridge_RMSEscores.mean())\n",
    "print(ElasticNet_MAEscores.mean())\n",
    "print(ElasticNet_MSEscores.mean())\n",
    "print(ElasticNet_RMSEscores.mean())\n"
   ]
  },
  {
   "cell_type": "code",
   "execution_count": 266,
   "metadata": {},
   "outputs": [
    {
     "data": {
      "image/png": "[encoded data removed]",
      "text/plain": [
       "<matplotlib.figure.Figure at 0x11d41fc88>"
      ]
     },
     "metadata": {},
     "output_type": "display_data"
    }
   ],
   "source": [
    "models = ['Linear', 'Lasso', 'Ridge', 'ElasticNet']\n",
    "MAEvalues = [-LR_MAEscores.mean(), -Lasso_MAEscores.mean(), -Ridge_MAEscores.mean(), -ElasticNet_MAEscores.mean()]\n",
    "MSEvalues = [-LR_MSEscores.mean(), -Lasso_MSEscores.mean(), -Ridge_MSEscores.mean(), -ElasticNet_MSEscores.mean()]\n",
    "RMSEvalues = [-LR_RMSEscores.mean(), -Lasso_RMSEscores.mean(), -Ridge_RMSEscores.mean(), -ElasticNet_RMSEscores.mean()]\n",
    "\n",
    "# plt.bar(models,values,align='center') # A bar chart\n",
    "# plt.xlabel('models')\n",
    "# plt.ylabel('MSE')\n",
    "\n",
    "# plt.show()\n",
    "\n",
    "size = 4\n",
    "x = np.arange(size)\n",
    "a = np.random.random(size)\n",
    "b = np.random.random(size)\n",
    "c = np.random.random(size)\n",
    "\n",
    "total_width, n = 0.5, 3\n",
    "width = total_width / n\n",
    "x = x - (total_width - width) / 2\n",
    "\n",
    "plt.bar(x, MAEvalues,  width=width, label='Mean Absolute Error')\n",
    "plt.bar(x + width, MSEvalues, width=width, label='Mean Squared Error')\n",
    "plt.bar(x + 2 * width, RMSEvalues, width=width, label='Root Mean Squared Error')\n",
    "plt.xticks(x, models, size='small')\n",
    "plt.ylim(0, 0.6)\n",
    "plt.title('MAE,MSE,RMSE in each model\\n(with cross validation)',fontsize=15)\n",
    "plt.legend()\n",
    "plt.savefig('MAE,MSE,RMSE in each model(cross validation).png')\n",
    "plt.show()"
   ]
  },
  {
   "cell_type": "code",
   "execution_count": null,
   "metadata": {},
   "outputs": [],
   "source": []
  }
 ],
 "metadata": {
  "kernelspec": {
   "display_name": "Python 3",
   "language": "python",
   "name": "python3"
  },
  "language_info": {
   "codemirror_mode": {
    "name": "ipython",
    "version": 3
   },
   "file_extension": ".py",
   "mimetype": "text/x-python",
   "name": "python",
   "nbconvert_exporter": "python",
   "pygments_lexer": "ipython3",
   "version": "3.6.4"
  }
 },
 "nbformat": 4,
 "nbformat_minor": 2
}
