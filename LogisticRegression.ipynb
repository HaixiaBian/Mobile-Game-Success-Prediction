{
 "cells": [
  {
   "cell_type": "code",
   "execution_count": 26,
   "metadata": {},
   "outputs": [],
   "source": [
    "import pandas as pd\n",
    "import numpy as np\n",
    "import sklearn\n",
    "from sklearn import preprocessing\n",
    "import matplotlib.pyplot as plt \n",
    "plt.rc(\"font\", size=14)\n",
    "from sklearn.linear_model import LogisticRegression\n",
    "from sklearn.model_selection import train_test_split\n",
    "from sklearn.model_selection import cross_val_score, cross_val_predict\n",
    "from sklearn.metrics import confusion_matrix\n",
    "import seaborn as sns\n",
    "sns.set(style=\"white\")\n",
    "sns.set(style=\"whitegrid\", color_codes=True)"
   ]
  },
  {
   "cell_type": "code",
   "execution_count": 16,
   "metadata": {},
   "outputs": [],
   "source": [
    "data = pd.read_csv('project_data_user_count_30.csv',header=0)\n",
    "data=data.dropna()\n",
    "\n",
    "data1=data.iloc[:,1:12].join(data.iloc[:,-1]) #without genre\n",
    "data1=data1.drop(\"genres\", axis=1)\n",
    "\n",
    "data1.loc[data1['average_user_rating']>=3.5, 'average_user_rating']=1\n",
    "data1.loc[data1['average_user_rating']!=1, 'average_user_rating']=0\n",
    "data2=data1\n",
    "\n",
    "from sklearn.preprocessing import StandardScaler\n",
    "data2_X=data2.drop('average_user_rating',axis=1)\n",
    "data2_y=data2.loc[:,data2.columns=='average_user_rating']\n",
    "\n",
    "data2_X[['user_rating_count','age_rating','language_sum','size','release_date','last_update','supported_devices']]=StandardScaler().fit_transform(data2_X[['user_rating_count','age_rating','language_sum','size','release_date','last_update','supported_devices']])\n",
    "\n"
   ]
  },
  {
   "cell_type": "code",
   "execution_count": 17,
   "metadata": {},
   "outputs": [
    {
     "name": "stdout",
     "output_type": "stream",
     "text": [
      "length of oversampled data is  7840\n",
      "Number of no subscription in oversampled data 3920\n",
      "Number of subscription 3920\n",
      "Proportion of no subscription data in oversampled data is  0.5\n",
      "Proportion of subscription data in oversampled data is  0.5\n"
     ]
    }
   ],
   "source": [
    "from imblearn.over_sampling import SMOTE\n",
    "os=SMOTE(random_state=0)\n",
    "X_train, X_test, y_train, y_test=train_test_split(data2_X, data2_y, test_size=0.3, random_state=0)\n",
    "columns=X_train.columns\n",
    "\n",
    "os_data_X,os_data_y=os.fit_sample(X_train, y_train.to_numpy().ravel())\n",
    "os_data_X = pd.DataFrame(data=os_data_X,columns=columns )\n",
    "os_data_y= pd.DataFrame(data=os_data_y,columns=['average_user_rating'])\n",
    "\n",
    "#check the numbers of dataset\n",
    "print(\"length of oversampled data is \",len(os_data_X))\n",
    "print(\"Number of no subscription in oversampled data\",len(os_data_y[os_data_y['average_user_rating']==0]))\n",
    "print(\"Number of subscription\",len(os_data_y[os_data_y['average_user_rating']==1]))\n",
    "print(\"Proportion of no subscription data in oversampled data is \",len(os_data_y[os_data_y['average_user_rating']==0])/len(os_data_X))\n",
    "print(\"Proportion of subscription data in oversampled data is \",len(os_data_y[os_data_y['average_user_rating']==1])/len(os_data_X))"
   ]
  },
  {
   "cell_type": "code",
   "execution_count": 18,
   "metadata": {},
   "outputs": [
    {
     "name": "stderr",
     "output_type": "stream",
     "text": [
      "/Users/zhaoqingteng/anaconda3/lib/python3.6/site-packages/sklearn/utils/validation.py:744: DataConversionWarning: A column-vector y was passed when a 1d array was expected. Please change the shape of y to (n_samples, ), for example using ravel().\n",
      "  y = column_or_1d(y, warn=True)\n",
      "/Users/zhaoqingteng/anaconda3/lib/python3.6/site-packages/sklearn/utils/validation.py:744: DataConversionWarning: A column-vector y was passed when a 1d array was expected. Please change the shape of y to (n_samples, ), for example using ravel().\n",
      "  y = column_or_1d(y, warn=True)\n",
      "/Users/zhaoqingteng/anaconda3/lib/python3.6/site-packages/sklearn/utils/validation.py:744: DataConversionWarning: A column-vector y was passed when a 1d array was expected. Please change the shape of y to (n_samples, ), for example using ravel().\n",
      "  y = column_or_1d(y, warn=True)\n",
      "/Users/zhaoqingteng/anaconda3/lib/python3.6/site-packages/sklearn/utils/validation.py:744: DataConversionWarning: A column-vector y was passed when a 1d array was expected. Please change the shape of y to (n_samples, ), for example using ravel().\n",
      "  y = column_or_1d(y, warn=True)\n"
     ]
    },
    {
     "name": "stdout",
     "output_type": "stream",
     "text": [
      "Coefficient of each feature:\n",
      " [[ 1.0672476   0.15780137  0.05284535  0.47386739  0.35830399  0.15489301\n",
      "  -0.27687966 -0.22200844 -0.06466304  1.23486471]]\n",
      "Training accuracy: 0.6919642857142857\n",
      "Test accuracy: 0.7046979865771812\n",
      "\n",
      "Coefficient of each feature:\n",
      " [[ 0.90842328  0.14860694  0.0507775   0.          0.35358355  0.15512804\n",
      "  -0.26876672 -0.23214214 -0.06150768  1.18443856]]\n",
      "Training accuracy: 0.6903061224489796\n",
      "Test accuracy: 0.7030201342281879\n",
      "\n",
      "Coefficient of each feature:\n",
      " [[ 0.91317869  0.14962107  0.05556222  0.12672372  0.35836241  0.16056733\n",
      "  -0.27017234 -0.23129504 -0.06558695  1.18747764]]\n",
      "Training accuracy: 0.6910714285714286\n",
      "Test accuracy: 0.7019015659955258\n",
      "\n",
      "Coefficient of each feature:\n",
      " [[ 0.89492693  0.15267681  0.05223149  0.14416897  0.35437039  0.15450633\n",
      "  -0.26853143 -0.23022176 -0.06276377  1.20347933]]\n",
      "Training accuracy: 0.6914540816326531\n",
      "Test accuracy: 0.7030201342281879\n",
      "\n"
     ]
    },
    {
     "name": "stderr",
     "output_type": "stream",
     "text": [
      "/Users/zhaoqingteng/anaconda3/lib/python3.6/site-packages/sklearn/linear_model/_sag.py:330: ConvergenceWarning: The max_iter was reached which means the coef_ did not converge\n",
      "  \"the coef_ did not converge\", ConvergenceWarning)\n"
     ]
    }
   ],
   "source": [
    "logreg = LogisticRegression()\n",
    "logreg.fit(os_data_X, os_data_y)\n",
    "pred_log = logreg.predict(X_test)\n",
    "print('Coefficient of each feature:\\n', logreg.coef_)\n",
    "print('Training accuracy:', logreg.score(os_data_X, os_data_y))\n",
    "print('Test accuracy:', logreg.score(X_test, y_test))\n",
    "print('')\n",
    "\n",
    "logregLasso=LogisticRegression(penalty='l1', C=0.1, solver='liblinear')\n",
    "logregLasso.fit(os_data_X, os_data_y)\n",
    "pred_Lasso = logregLasso.predict(X_test)\n",
    "print('Coefficient of each feature:\\n', logregLasso.coef_)\n",
    "print('Training accuracy:', logregLasso.score(os_data_X, os_data_y))\n",
    "print('Test accuracy:', logregLasso.score(X_test, y_test))\n",
    "print('')\n",
    "    \n",
    "logregRidge=LogisticRegression(penalty='l2', C=0.1, solver='liblinear')\n",
    "logregRidge.fit(os_data_X, os_data_y)\n",
    "pred_Ridge = logregRidge.predict(X_test)\n",
    "print('Coefficient of each feature:\\n', logregRidge.coef_)\n",
    "print('Training accuracy:', logregRidge.score(os_data_X, os_data_y))\n",
    "print('Test accuracy:', logregRidge.score(X_test, y_test))\n",
    "print('')\n",
    "\n",
    "logregElasticeNet=LogisticRegression(penalty='elasticnet', l1_ratio=0.5, C=0.1, solver='saga')\n",
    "logregElasticeNet.fit(os_data_X, os_data_y)\n",
    "pred_Elas = logregElasticeNet.predict(X_test)\n",
    "print('Coefficient of each feature:\\n', logregElasticeNet.coef_)\n",
    "print('Training accuracy:', logregElasticeNet.score(os_data_X, os_data_y))\n",
    "print('Test accuracy:', logregElasticeNet.score(X_test, y_test))\n",
    "print('')"
   ]
  },
  {
   "cell_type": "code",
   "execution_count": 19,
   "metadata": {},
   "outputs": [
    {
     "name": "stdout",
     "output_type": "stream",
     "text": [
      "1788 1788\n"
     ]
    },
    {
     "data": {
      "text/plain": [
       "array([[  63,   46],\n",
       "       [ 482, 1197]])"
      ]
     },
     "execution_count": 19,
     "metadata": {},
     "output_type": "execute_result"
    }
   ],
   "source": [
    "t = y_test.values.ravel().tolist()\n",
    "p = pred_log.tolist()\n",
    "print(len(t), len(p))\n",
    "confusion_matrix1 = confusion_matrix(t,p)\n",
    "confusion_matrix1"
   ]
  },
  {
   "cell_type": "code",
   "execution_count": 20,
   "metadata": {},
   "outputs": [
    {
     "name": "stdout",
     "output_type": "stream",
     "text": [
      "1788 1788\n"
     ]
    },
    {
     "data": {
      "text/plain": [
       "array([[  63,   46],\n",
       "       [ 485, 1194]])"
      ]
     },
     "execution_count": 20,
     "metadata": {},
     "output_type": "execute_result"
    }
   ],
   "source": [
    "t = y_test.values.ravel().tolist()\n",
    "p = pred_Lasso.tolist()\n",
    "print(len(t), len(p))\n",
    "confusion_matrix2 = confusion_matrix(t,p)\n",
    "confusion_matrix2"
   ]
  },
  {
   "cell_type": "code",
   "execution_count": 21,
   "metadata": {},
   "outputs": [
    {
     "name": "stdout",
     "output_type": "stream",
     "text": [
      "1788 1788\n"
     ]
    },
    {
     "data": {
      "text/plain": [
       "array([[  63,   46],\n",
       "       [ 487, 1192]])"
      ]
     },
     "execution_count": 21,
     "metadata": {},
     "output_type": "execute_result"
    }
   ],
   "source": [
    "t = y_test.values.ravel().tolist()\n",
    "p = pred_Ridge.tolist()\n",
    "print(len(t), len(p))\n",
    "confusion_matrix3 = confusion_matrix(t,p)\n",
    "confusion_matrix3"
   ]
  },
  {
   "cell_type": "code",
   "execution_count": 22,
   "metadata": {},
   "outputs": [
    {
     "name": "stdout",
     "output_type": "stream",
     "text": [
      "1788 1788\n"
     ]
    },
    {
     "data": {
      "text/plain": [
       "array([[  63,   46],\n",
       "       [ 485, 1194]])"
      ]
     },
     "execution_count": 22,
     "metadata": {},
     "output_type": "execute_result"
    }
   ],
   "source": [
    "t = y_test.values.ravel().tolist()\n",
    "p = pred_Elas.tolist()\n",
    "print(len(t), len(p))\n",
    "confusion_matrix4 = confusion_matrix(t,p)\n",
    "confusion_matrix4"
   ]
  },
  {
   "cell_type": "code",
   "execution_count": 23,
   "metadata": {},
   "outputs": [
    {
     "data": {
      "image/png": "[encoded data removed]",
      "text/plain": [
       "<matplotlib.figure.Figure at 0x11c4d2400>"
      ]
     },
     "metadata": {},
     "output_type": "display_data"
    }
   ],
   "source": [
    "from sklearn.metrics import roc_auc_score\n",
    "from sklearn.metrics import roc_curve\n",
    "logit_roc_auc = roc_auc_score(y_test, logreg.predict(X_test))\n",
    "fpr, tpr, thresholds = roc_curve(y_test, logreg.predict_proba(X_test)[:,1])\n",
    "plt.figure()\n",
    "plt.plot(fpr, tpr, label='Logistic Regression (area = %0.2f)' % logit_roc_auc)\n",
    "plt.plot([0, 1], [0, 1],'r--')\n",
    "plt.xlim([0.0, 1.0])\n",
    "plt.ylim([0.0, 1.05])\n",
    "plt.xlabel('False Positive Rate')\n",
    "plt.ylabel('True Positive Rate')\n",
    "plt.title('Receiver operating characteristic')\n",
    "plt.legend(loc=\"lower right\")\n",
    "plt.savefig('Log_ROC')\n",
    "plt.show()"
   ]
  },
  {
   "cell_type": "code",
   "execution_count": 36,
   "metadata": {},
   "outputs": [
    {
     "name": "stdout",
     "output_type": "stream",
     "text": [
      "[0.42321429 0.56160714 0.61964286 0.675      0.69910714 0.73035714\n",
      " 0.74017857 0.74821429 0.73458445 0.71671135]\n",
      "0.6648617228392697\n"
     ]
    }
   ],
   "source": [
    "data_validation_X,data_validation_y=os.fit_sample(data2_X, data2_y.to_numpy().ravel())\n",
    "\n",
    "logreg = LogisticRegression()\n",
    "LRC_acc = cross_val_score(logreg, data_validation_X, data_validation_y, cv=10,scoring='accuracy')\n",
    "\n",
    "print(LRC_acc)\n",
    "print(LRC_acc.mean())"
   ]
  },
  {
   "cell_type": "code",
   "execution_count": null,
   "metadata": {},
   "outputs": [],
   "source": []
  }
 ],
 "metadata": {
  "kernelspec": {
   "display_name": "Python 3",
   "language": "python",
   "name": "python3"
  },
  "language_info": {
   "codemirror_mode": {
    "name": "ipython",
    "version": 3
   },
   "file_extension": ".py",
   "mimetype": "text/x-python",
   "name": "python",
   "nbconvert_exporter": "python",
   "pygments_lexer": "ipython3",
   "version": "3.6.4"
  }
 },
 "nbformat": 4,
 "nbformat_minor": 2
}
